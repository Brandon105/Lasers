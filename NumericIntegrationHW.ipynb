{
 "cells": [
  {
   "cell_type": "code",
   "execution_count": 9,
   "id": "0e9b8501-67f4-49d1-96ee-fd30e7c22bdc",
   "metadata": {},
   "outputs": [
    {
     "name": "stdout",
     "output_type": "stream",
     "text": [
      "3.255442017788768e-15\n",
      "3.6171577975430755e-15\n"
     ]
    },
    {
     "data": {
      "image/png": "[encoded data removed]",
      "text/plain": [
       "<Figure size 432x288 with 4 Axes>"
      ]
     },
     "metadata": {
      "needs_background": "light"
     },
     "output_type": "display_data"
    }
   ],
   "source": [
    "import numpy as np\n",
    "import matplotlib.pyplot as plt\n",
    "from matplotlib.pyplot import figure\n",
    "\n",
    "A21 = 1E7\n",
    "A1 = 1E8\n",
    "wavelength = 5E-7\n",
    "sigma = ((wavelength*wavelength)*A21)/((2*np.pi)*(A21+A1))\n",
    "sigma2 = .9*sigma\n",
    "print(sigma2)\n",
    "print(sigma)\n",
    "l = 0.1\n",
    "d = 1.0\n",
    "RR = .97\n",
    "c = 2.998E8\n",
    "stepsize = 1E-9\n",
    "steps = 20000\n",
    "p = 4.68E20\n",
    "\n",
    "N1_dat = []\n",
    "N2_dat = []\n",
    "Phi_dat = []\n",
    "#Phi2_dat = []\n",
    "\n",
    "N1_next = 0\n",
    "N2_next = 0\n",
    "Phi_next = 1\n",
    "#Phi2_next = 1\n",
    "\n",
    "\n",
    "def state1(N1,N2,Phi):#,Phi2):\n",
    "    return A21*N2 - A1*N1 + Phi*sigma*(N2-N1)# + Phi2*sigma2*(N2-N1)\n",
    "def state2(N1,N2,Phi):#,Phi2):\n",
    "    return 2*p - A21*N2 - Phi*sigma*(N2-N1)# - Phi2*sigma2*(N2-N1)\n",
    "def flux(N1,N2,Phi):#,Phi2):\n",
    "    return (c/(2.0*d)) * Phi * (np.log(RR) + 2.0*(N2-N1)*sigma*l)\n",
    "#def flux2(N1,N2,Phi,Phi2):\n",
    "    #return (c/(2.0*d)) * Phi2 * (np.log(RR) + 2.0*(N2-N1)*sigma2*l)\n",
    "\n",
    "\n",
    "for i in range(steps):\n",
    "    if Phi_next < 1.0:\n",
    "        Phi_next = 1.0\n",
    "    #if Phi2_next < 1.0:\n",
    "       # Phi2_next = 1.0\n",
    "    \n",
    "    \n",
    "    N1_dat.append(N1_next)\n",
    "    N2_dat.append(N2_next)\n",
    "    Phi_dat.append(Phi_next)\n",
    "    #Phi2_dat.append(Phi2_next)\n",
    "    \n",
    "    N1 = N1_next\n",
    "    N2 = N2_next\n",
    "    Phi = Phi_next\n",
    "   # Phi2 = Phi2_next\n",
    "    \n",
    "    N1_next += (stepsize * state1(N1,N2,Phi))#,Phi2))\n",
    "    N2_next += (stepsize * state2(N1,N2,Phi))#,Phi2))\n",
    "    Phi_next += (stepsize * flux(N1,N2,Phi))#,Phi2))\n",
    "   # Phi2_next += (stepsize * flux2(N1,N2,Phi))#,Phi2))\n",
    "    \n",
    "x = range(steps)\n",
    "fig, axis = plt.subplots(1,4)  \n",
    "axis[1].plot(x,Phi_dat)\n",
    "axis[1].set_title(\"Phi\")\n",
    "#axis[1].plot(x,Phi2_dat)\n",
    "#axis[1].set_title(\"Phi2\")\n",
    "axis[2].plot(x,N1_dat)\n",
    "axis[2].set_title(\"N1\")\n",
    "axis[3].plot(x,N2_dat)\n",
    "axis[3].set_title(\"N2\")\n",
    "plt.savefig(\"LasterHw6_test\")"
   ]
  },
  {
   "cell_type": "code",
   "execution_count": null,
   "id": "e2008ff2-4dfc-4e10-bc0f-48624a80a357",
   "metadata": {},
   "outputs": [],
   "source": []
  },
  {
   "cell_type": "code",
   "execution_count": null,
   "id": "662e86e1-ac48-4f86-a54c-941150a0265a",
   "metadata": {},
   "outputs": [],
   "source": []
  }
 ],
 "metadata": {
  "kernelspec": {
   "display_name": "Python 3",
   "language": "python",
   "name": "python3"
  },
  "language_info": {
   "codemirror_mode": {
    "name": "ipython",
    "version": 3
   },
   "file_extension": ".py",
   "mimetype": "text/x-python",
   "name": "python",
   "nbconvert_exporter": "python",
   "pygments_lexer": "ipython3",
   "version": "3.8.8"
  }
 },
 "nbformat": 4,
 "nbformat_minor": 5
}
