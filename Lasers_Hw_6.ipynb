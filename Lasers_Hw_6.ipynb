{
 "cells": [
  {
   "cell_type": "code",
   "execution_count": 23,
   "id": "b2236153-1a52-465a-80a1-e53d5747dd64",
   "metadata": {},
   "outputs": [
    {
     "data": {
      "text/plain": [
       "Text(0.5, 1.0, 'N2')"
      ]
     },
     "execution_count": 23,
     "metadata": {},
     "output_type": "execute_result"
    },
    {
     "data": {
      "image/png": "[encoded data removed]",
      "text/plain": [
       "<Figure size 432x288 with 3 Axes>"
      ]
     },
     "metadata": {
      "needs_background": "light"
     },
     "output_type": "display_data"
    }
   ],
   "source": [
    "import numpy as np\n",
    "import matplotlib.pyplot as plt\n",
    "from matplotlib.pyplot import figure\n",
    "\n",
    "A21 = 3E6\n",
    "A1 = 0\n",
    "wavelength = 5E-7\n",
    "sigma = (wavelength*wavelength)/(2*np.pi)\n",
    "l = 0.1\n",
    "d = 1.0\n",
    "RR = .04\n",
    "c = 2.998E8\n",
    "stepsize = 1E-12\n",
    "steps = 250000\n",
    "p = 1E24\n",
    "\n",
    "N1_dat = []\n",
    "N2_dat = []\n",
    "Phi_dat = []\n",
    "\n",
    "N1_next = 0\n",
    "N2_next = 0\n",
    "Phi_next = 0\n",
    "\n",
    "\n",
    "def state1(N1,N2,Phi):\n",
    "    return A21*N2 - A1*N1 + Phi*sigma*(N2-N1) \n",
    "def state2(N1,N2,Phi):\n",
    "    return 2*p - A21*N2 - Phi*sigma*(N2-N1)\n",
    "def flux(N1,N2,Phi):\n",
    "    return (c/(2.0*d)) * Phi * (np.log(RR) + 2.0*(N2-N1)*sigma*l)\n",
    "\n",
    "\n",
    "for i in range(steps):\n",
    "    #if Phi_next < 1.0:\n",
    "        #Phi_next = 1.0\n",
    "    if i == 200000:\n",
    "        Phi_next = 1.0\n",
    "    \n",
    "    N1_dat.append(N1_next)\n",
    "    N2_dat.append(N2_next)\n",
    "    Phi_dat.append(Phi_next)\n",
    "    \n",
    "    N1 = N1_next\n",
    "    N2 = N2_next\n",
    "    Phi = Phi_next\n",
    "    \n",
    "    N1_next += (stepsize * state1(N1,N2,Phi))\n",
    "    N2_next += (stepsize * state2(N1,N2,Phi))\n",
    "    Phi_next += (stepsize * flux(N1,N2,Phi))\n",
    "    \n",
    "x = range(steps)\n",
    "fig, axis = plt.subplots(1,3)  \n",
    "axis[0].plot(x,Phi_dat)\n",
    "axis[0].set_title(\"Phi\")\n",
    "axis[1].plot(x,N1_dat)\n",
    "axis[1].set_title(\"N1\")\n",
    "axis[2].plot(x,N2_dat)\n",
    "axis[2].set_title(\"N2\")\n",
    "#plt.savefig(\"LasterHw6''\")"
   ]
  },
  {
   "cell_type": "code",
   "execution_count": null,
   "id": "34728309-3d5b-4ff5-871b-cad52a78e489",
   "metadata": {},
   "outputs": [],
   "source": []
  }
 ],
 "metadata": {
  "kernelspec": {
   "display_name": "Python 3",
   "language": "python",
   "name": "python3"
  },
  "language_info": {
   "codemirror_mode": {
    "name": "ipython",
    "version": 3
   },
   "file_extension": ".py",
   "mimetype": "text/x-python",
   "name": "python",
   "nbconvert_exporter": "python",
   "pygments_lexer": "ipython3",
   "version": "3.8.8"
  }
 },
 "nbformat": 4,
 "nbformat_minor": 5
}
